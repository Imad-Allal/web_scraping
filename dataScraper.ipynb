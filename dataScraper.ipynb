{
 "cells": [
  {
   "cell_type": "code",
   "execution_count": 1,
   "id": "c975cfb0",
   "metadata": {},
   "outputs": [],
   "source": [
    "from selenium import webdriver\n",
    "from selenium.webdriver.common.by import By\n",
    "import json"
   ]
  },
  {
   "cell_type": "code",
   "execution_count": 2,
   "id": "d823590e",
   "metadata": {},
   "outputs": [],
   "source": [
    "driver = webdriver.Chrome()\n",
    "driver.get('https://www.woolworths.com.au/shop/browse/cleaning/laundry')"
   ]
  },
  {
   "cell_type": "code",
   "execution_count": 3,
   "id": "1b666a3f",
   "metadata": {},
   "outputs": [],
   "source": [
    "prices = driver.find_elements(By.CLASS_NAME, \"product-information-container\")\n",
    "products = driver.find_elements(By.CLASS_NAME, \"product-title-container\")\n",
    "\n",
    "data = []\n",
    "\n",
    "for i, prdct in enumerate(products):\n",
    "    data.append({prdct.text:prices[i].text})\n",
    "    \n",
    "json_data = json.dumps(data)"
   ]
  },
  {
   "cell_type": "code",
   "execution_count": 4,
   "id": "4beca2a7",
   "metadata": {},
   "outputs": [],
   "source": [
    "json_data = json_data.replace('\\n','')\n",
    "data = json.loads(json_data)"
   ]
  },
  {
   "cell_type": "code",
   "execution_count": 5,
   "id": "979f25c7",
   "metadata": {},
   "outputs": [
    {
     "data": {
      "text/plain": [
       "[{'Surf Aqua Fresh Laundry Capsules 30s 390g\\nPROMOTED': '$13.00\\n$0.43 / 1EA'},\n",
       " {'Omo Active 3 In 1 Laundry Capsule 28 Pack\\nPROMOTED': '$26.00\\n$0.93 / 1EA'},\n",
       " {'Omo Sensitive 3 In 1 Capsule 28 Pack\\nPROMOTED': '$26.00\\n$0.93 / 1EA'},\n",
       " {'Omo Ultimate Fabric Cleaning Laundry Liquid 2l\\nPROMOTED': '$17.40\\n$29.00 - $8.70 / 1L'},\n",
       " {'Earth Choice Wool Wash 1l': '$2.60\\n$2.60 / 1L'},\n",
       " {'Sard Super Power Stain Remover Spray 420ml': '$8.00\\n$1.90 / 100ML'},\n",
       " {'Vanish Preen Gold Fabric Stain Remover Spray 450ml': '$9.50\\n$21.11 / 1L\\n2 FOR $14.00 - $15.56/1L'},\n",
       " {'Sard Super Power Stain Remover Powder Soaker 900g': '$5.50\\n$11.00 - $6.11 / 1KG'},\n",
       " {'Lectric Inwash & Soaker Washing Soda 1kg': '$5.00\\n$5.00 / 1KG'},\n",
       " {'Vanish Preen Everyday Fabric Stain Remover Spray 375ml': '$5.50\\n$7.00 - $14.67 / 1L'},\n",
       " {'Surf Tropical Lily Laundry Liquid Detergent 4l\\nPROMOTED': '$16.50\\n$4.13 / 1L'},\n",
       " {'Omo Active Clean F&t Laundry Washing Powder Detergent 2kg\\nPROMOTED': '$26.00\\n$13.00 / 1KG'},\n",
       " {'Surf Tropical Capsules 50 Pack\\nPROMOTED': '$16.50\\n$0.33 / 1EA\\nWAS $22 - 22/11/2022'},\n",
       " {'Omo Ultimate 3 In 1 Capsule 17 Pack\\nPROMOTED': '$15.50\\n$21.00 - $0.91 / 1EA'},\n",
       " {'Sard Power Stain Remover Powder Soaker 1kg': '$5.50\\n$11.00 - $5.50 / 1KG'},\n",
       " {'Softly Delicates Fabric Solution 1.25l': '$9.00\\n$7.20 / 1L'},\n",
       " {'Vanish Napisan Stain Remover Powder 1kg\\n3.0\\n(\\n1\\n)': '$11.50\\n$11.50 / 1KG'},\n",
       " {'Sard Power Stain Remover Spray 450ml': '$8.00\\n$1.78 / 100ML'},\n",
       " {'Sard Wonder Soap Stain Remover Eucalyptus 125g': '$4.00\\n$32.00 / 1KG'},\n",
       " {'Sard Super Power Stain Remover Refill 420ml': '$6.00\\n$14.29 / 1L'},\n",
       " {'Sard Stain Remover Stick Each': '$6.00\\n$60.00 / 1KG'},\n",
       " {'Sard Super Power Stain Remover Powder Soaker 1.8kg': '$14.40\\n$8.00 / 1KG\\nRANGE WAS $16 - 25/05/2023'},\n",
       " {'Sard Oils & Grime Stain Remover Spray 420ml': '$8.00\\n$19.05 / 1L'},\n",
       " {'Vanish Napisan Stain Remover Powder 2kg': '$19.00\\n$9.50 / 1KG'},\n",
       " {'Vanish Gold Oxi Advance 2kg': '$32.00\\n$16.00 / 1KG'},\n",
       " {'Softly Fabric Softener Woolwash Eucalyptus 1.25l': ''},\n",
       " {'Vanish Preen Ultra Degreaser Fabric Stain Remover Spray 375ml': '$5.50\\n$7.00 - $14.67 / 1L'},\n",
       " {'Earth Choice Fabric Softener 1l': '$2.50\\n$2.50 / 1L'},\n",
       " {'Fluffy Regular Fabric Conditioner Summer Breeze 2l': '$6.00\\n$3.00 / 1L'},\n",
       " {'Sunlight Laundry Soap 500g': '$4.80\\n$9.60 / 1KG'}]"
      ]
     },
     "execution_count": 5,
     "metadata": {},
     "output_type": "execute_result"
    }
   ],
   "source": [
    "data"
   ]
  },
  {
   "cell_type": "code",
   "execution_count": null,
   "id": "2df4b3ad",
   "metadata": {},
   "outputs": [],
   "source": []
  }
 ],
 "metadata": {
  "kernelspec": {
   "display_name": "Python 3 (ipykernel)",
   "language": "python",
   "name": "python3"
  },
  "language_info": {
   "codemirror_mode": {
    "name": "ipython",
    "version": 3
   },
   "file_extension": ".py",
   "mimetype": "text/x-python",
   "name": "python",
   "nbconvert_exporter": "python",
   "pygments_lexer": "ipython3",
   "version": "3.9.12"
  }
 },
 "nbformat": 4,
 "nbformat_minor": 5
}
